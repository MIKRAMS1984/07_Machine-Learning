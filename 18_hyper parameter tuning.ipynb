{
 "cells": [
  {
   "cell_type": "markdown",
   "metadata": {},
   "source": [
    "# Hyper Parameters Tuning\n",
    "\n",
    "**Types:**\n",
    "\n",
    "-Grid Search\n",
    "\n",
    "-Random Search\n",
    "\n",
    "-Bayseian Optimization\n",
    "\n",
    "-Gradient-based Optimization  "
   ]
  },
  {
   "cell_type": "markdown",
   "metadata": {},
   "source": [
    "# Cross Validation"
   ]
  },
  {
   "cell_type": "code",
   "execution_count": 1,
   "metadata": {},
   "outputs": [],
   "source": [
    "# import libraries\n",
    "from sklearn.ensemble import RandomForestClassifier\n",
    "from sklearn.model_selection import train_test_split, GridSearchCV\n",
    "from sklearn.metrics import accuracy_score, confusion_matrix, classification_report"
   ]
  },
  {
   "cell_type": "code",
   "execution_count": 2,
   "metadata": {},
   "outputs": [],
   "source": [
    "from sklearn.datasets import load_iris\n",
    "iris = load_iris()\n",
    "X = iris.data\n",
    "y = iris.target"
   ]
  },
  {
   "cell_type": "code",
   "execution_count": 10,
   "metadata": {},
   "outputs": [
    {
     "ename": "SyntaxError",
     "evalue": "invalid syntax. Maybe you meant '==' or ':=' instead of '='? (4009566564.py, line 14)",
     "output_type": "error",
     "traceback": [
      "\u001b[1;36m  Cell \u001b[1;32mIn[10], line 14\u001b[1;36m\u001b[0m\n\u001b[1;33m    estimator=model,\u001b[0m\n\u001b[1;37m    ^\u001b[0m\n\u001b[1;31mSyntaxError\u001b[0m\u001b[1;31m:\u001b[0m invalid syntax. Maybe you meant '==' or ':=' instead of '='?\n"
     ]
    }
   ],
   "source": [
    "# define the model\n",
    "model = RandomForestClassifier()\n",
    "\n",
    "# kreate the parameter grid\n",
    "param_grid = {\n",
    "    'n_estimator': [50, 100, 200, 300, 400, 500],\n",
    "    'max_features':['auto', 'sqrt', 'log2'],\n",
    "    'max_depth':   [4, 5, 6, 7, 8, 9, 10],\n",
    "    'criterian':['gini', 'entropy']\n",
    "}\n",
    "\n",
    "# set up a grid\n",
    "grid = GridSearchCV{\n",
    "    estimator:=model,\n",
    "    param_grid=param_grid,\n",
    "    cv=5,\n",
    "    scoring='accuracy',\n",
    "    verbose=1,\n",
    "    n_bobs=-1    \n",
    "}\n",
    "\n",
    "# fit the model\n",
    "grid.fit(X, y)\n",
    "\n",
    "# print the best parameters\n",
    "print(f'Best Parameters: {grid.best_params_}')"
   ]
  }
 ],
 "metadata": {
  "kernelspec": {
   "display_name": "python_ml",
   "language": "python",
   "name": "python3"
  },
  "language_info": {
   "codemirror_mode": {
    "name": "ipython",
    "version": 3
   },
   "file_extension": ".py",
   "mimetype": "text/x-python",
   "name": "python",
   "nbconvert_exporter": "python",
   "pygments_lexer": "ipython3",
   "version": "3.11.9"
  }
 },
 "nbformat": 4,
 "nbformat_minor": 2
}
